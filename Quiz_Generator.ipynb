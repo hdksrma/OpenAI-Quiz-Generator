{
 "cells": [
  {
   "cell_type": "markdown",
   "id": "2ab571b2",
   "metadata": {},
   "source": [
    "# Automatic Quiz Generator"
   ]
  },
  {
   "cell_type": "code",
   "execution_count": 24,
   "id": "ec365dd6",
   "metadata": {},
   "outputs": [],
   "source": [
    "import os\n",
    "import openai"
   ]
  },
  {
   "cell_type": "markdown",
   "id": "28e961b2",
   "metadata": {},
   "source": [
    "### Set-up OpenAI API key from environment variables"
   ]
  },
  {
   "cell_type": "code",
   "execution_count": 3,
   "id": "76c6f0f9",
   "metadata": {},
   "outputs": [],
   "source": [
    "openai.api_key = os.getenv(\"OPENAI_API_KEY\")"
   ]
  },
  {
   "cell_type": "markdown",
   "id": "5f3799a5",
   "metadata": {},
   "source": [
    "### Familiarize GPT with the format of the test"
   ]
  },
  {
   "cell_type": "code",
   "execution_count": 4,
   "id": "2961cb2e",
   "metadata": {},
   "outputs": [],
   "source": [
    "def create_test_prompt(topic, num_questions, num_possible_answers):\n",
    "    prompt = f\"Create a multiple choice quiz on the topic of {topic} consisting of {num_questions} questions. \" \\\n",
    "                 + f\"Each question should have {num_possible_answers} options. \"\\\n",
    "                 + f\"Also include the correct answer for each question using the starting string 'Correct Answer: '.\"\n",
    "    return prompt"
   ]
  },
  {
   "cell_type": "code",
   "execution_count": 5,
   "id": "68c1ee9a",
   "metadata": {},
   "outputs": [
    {
     "data": {
      "text/plain": [
       "\"Create a multiple choice quiz on the topic of Python consisting of 4 questions. Each question should have 4 options. Also include the correct answer for each question using the starting string 'Correct Answer: '.\""
      ]
     },
     "execution_count": 5,
     "metadata": {},
     "output_type": "execute_result"
    }
   ],
   "source": [
    "create_test_prompt(\"Python\", 4, 4)"
   ]
  },
  {
   "cell_type": "markdown",
   "id": "a08e0373",
   "metadata": {},
   "source": [
    "### OpenAI API Call"
   ]
  },
  {
   "cell_type": "code",
   "execution_count": 7,
   "id": "a75661e7",
   "metadata": {},
   "outputs": [],
   "source": [
    "response = openai.Completion.create(engine=\"text-davinci-003\",\n",
    "                                            prompt=create_test_prompt(\"Python\", 4, 4),\n",
    "                                            max_tokens=256,\n",
    "                                            temperature=0.7)"
   ]
  },
  {
   "cell_type": "code",
   "execution_count": 8,
   "id": "bbe409e9",
   "metadata": {},
   "outputs": [
    {
     "data": {
      "text/plain": [
       "<OpenAIObject text_completion id=cmpl-6w0DUDXem4vw22BGRZwJXiKdta0HH at 0x273801b1900> JSON: {\n",
       "  \"choices\": [\n",
       "    {\n",
       "      \"finish_reason\": \"stop\",\n",
       "      \"index\": 0,\n",
       "      \"logprobs\": null,\n",
       "      \"text\": \"\\n\\nQ1. What type of language is Python?\\nA. Compiled\\nB. Scripted\\nC. Object-oriented\\nD. Machine language\\nCorrect Answer: B. Scripted\\n\\nQ2. What is the primary use of Python?\\nA. Web development\\nB. Mobile application development\\nC. Desktop application development\\nD. Data analysis\\nCorrect Answer: A. Web development\\n\\nQ3. Which of the following is not a core data type in Python?\\nA. Lists\\nB. Strings\\nC. Tuples\\nD. Classes\\nCorrect Answer: D. Classes\\n\\nQ4. What is the correct syntax to print the word 'Hello' in Python?\\nA. println(Hello)\\nB. print('Hello')\\nC. printf(Hello)\\nD. log('Hello')\\nCorrect Answer: B. print('Hello')\"\n",
       "    }\n",
       "  ],\n",
       "  \"created\": 1679281876,\n",
       "  \"id\": \"cmpl-6w0DUDXem4vw22BGRZwJXiKdta0HH\",\n",
       "  \"model\": \"text-davinci-003\",\n",
       "  \"object\": \"text_completion\",\n",
       "  \"usage\": {\n",
       "    \"completion_tokens\": 185,\n",
       "    \"prompt_tokens\": 39,\n",
       "    \"total_tokens\": 224\n",
       "  }\n",
       "}"
      ]
     },
     "execution_count": 8,
     "metadata": {},
     "output_type": "execute_result"
    }
   ],
   "source": [
    "response"
   ]
  },
  {
   "cell_type": "markdown",
   "id": "dfd262c3",
   "metadata": {},
   "source": [
    "### Parse the required information (QnA) from response"
   ]
  },
  {
   "cell_type": "code",
   "execution_count": 9,
   "id": "cbf6c2a6",
   "metadata": {},
   "outputs": [
    {
     "data": {
      "text/plain": [
       "\"\\n\\nQ1. What type of language is Python?\\nA. Compiled\\nB. Scripted\\nC. Object-oriented\\nD. Machine language\\nCorrect Answer: B. Scripted\\n\\nQ2. What is the primary use of Python?\\nA. Web development\\nB. Mobile application development\\nC. Desktop application development\\nD. Data analysis\\nCorrect Answer: A. Web development\\n\\nQ3. Which of the following is not a core data type in Python?\\nA. Lists\\nB. Strings\\nC. Tuples\\nD. Classes\\nCorrect Answer: D. Classes\\n\\nQ4. What is the correct syntax to print the word 'Hello' in Python?\\nA. println(Hello)\\nB. print('Hello')\\nC. printf(Hello)\\nD. log('Hello')\\nCorrect Answer: B. print('Hello')\""
      ]
     },
     "execution_count": 9,
     "metadata": {},
     "output_type": "execute_result"
    }
   ],
   "source": [
    "response[\"choices\"][0][\"text\"]"
   ]
  },
  {
   "cell_type": "markdown",
   "id": "b97bb44a",
   "metadata": {},
   "source": [
    "## Q/A Extraction"
   ]
  },
  {
   "cell_type": "markdown",
   "id": "975b2df8",
   "metadata": {},
   "source": [
    "### Extract Student View (Only Questions)"
   ]
  },
  {
   "cell_type": "code",
   "execution_count": 10,
   "id": "bd42e3bf",
   "metadata": {},
   "outputs": [],
   "source": [
    "def create_student_view(test, num_questions):\n",
    "    student_view = {1 : \"\"}\n",
    "    question_number = 1\n",
    "    for line in test.split(\"\\n\"):\n",
    "        if not line.startswith(\"Correct Answer:\"):\n",
    "            student_view[question_number] += line+\"\\n\"\n",
    "        else:\n",
    "\n",
    "            if question_number < num_questions:\n",
    "                question_number+=1\n",
    "                student_view[question_number] = \"\"\n",
    "    return student_view"
   ]
  },
  {
   "cell_type": "code",
   "execution_count": 11,
   "id": "a92664f8",
   "metadata": {},
   "outputs": [
    {
     "data": {
      "text/plain": [
       "{1: '\\n\\nQ1. What type of language is Python?\\nA. Compiled\\nB. Scripted\\nC. Object-oriented\\nD. Machine language\\n',\n",
       " 2: '\\nQ2. What is the primary use of Python?\\nA. Web development\\nB. Mobile application development\\nC. Desktop application development\\nD. Data analysis\\n',\n",
       " 3: '\\nQ3. Which of the following is not a core data type in Python?\\nA. Lists\\nB. Strings\\nC. Tuples\\nD. Classes\\n',\n",
       " 4: \"\\nQ4. What is the correct syntax to print the word 'Hello' in Python?\\nA. println(Hello)\\nB. print('Hello')\\nC. printf(Hello)\\nD. log('Hello')\\n\"}"
      ]
     },
     "execution_count": 11,
     "metadata": {},
     "output_type": "execute_result"
    }
   ],
   "source": [
    "create_student_view(response[\"choices\"][0][\"text\"], 4)"
   ]
  },
  {
   "cell_type": "markdown",
   "id": "4882b6b7",
   "metadata": {},
   "source": [
    "### Extract Answers Only"
   ]
  },
  {
   "cell_type": "code",
   "execution_count": 12,
   "id": "a061fffa",
   "metadata": {},
   "outputs": [],
   "source": [
    "def extract_answers(test, num_questions):\n",
    "    answers = {1 : \"\"}\n",
    "    question_number = 1\n",
    "    for line in test.split(\"\\n\"):\n",
    "        if line.startswith(\"Correct Answer:\"):\n",
    "            answers[question_number] += line+\"\\n\"\n",
    "\n",
    "            if question_number < num_questions:\n",
    "                question_number+=1\n",
    "                answers[question_number] = \"\"\n",
    "    return answers"
   ]
  },
  {
   "cell_type": "code",
   "execution_count": 13,
   "id": "8ac773a6",
   "metadata": {},
   "outputs": [
    {
     "data": {
      "text/plain": [
       "{1: 'Correct Answer: B. Scripted\\n',\n",
       " 2: 'Correct Answer: A. Web development\\n',\n",
       " 3: 'Correct Answer: D. Classes\\n',\n",
       " 4: \"Correct Answer: B. print('Hello')\\n\"}"
      ]
     },
     "execution_count": 13,
     "metadata": {},
     "output_type": "execute_result"
    }
   ],
   "source": [
    "extract_answers(response[\"choices\"][0][\"text\"], 4)"
   ]
  },
  {
   "cell_type": "markdown",
   "id": "61427b4c",
   "metadata": {},
   "source": [
    "### Exam Simulation"
   ]
  },
  {
   "cell_type": "code",
   "execution_count": 14,
   "id": "40f06938",
   "metadata": {},
   "outputs": [],
   "source": [
    "def take(student_view):\n",
    "    answers = {}\n",
    "    for question, question_view in student_view.items():\n",
    "        print(question_view)\n",
    "        answer = input(\"Enter your answer: \")\n",
    "        answers[question] = answer\n",
    "    return answers"
   ]
  },
  {
   "cell_type": "code",
   "execution_count": 21,
   "id": "e1e54573",
   "metadata": {},
   "outputs": [
    {
     "name": "stdout",
     "output_type": "stream",
     "text": [
      "\n",
      "\n",
      "Q1. What type of language is Python?\n",
      "A. Compiled\n",
      "B. Scripted\n",
      "C. Object-oriented\n",
      "D. Machine language\n",
      "\n",
      "Enter your answer: b\n",
      "\n",
      "Q2. What is the primary use of Python?\n",
      "A. Web development\n",
      "B. Mobile application development\n",
      "C. Desktop application development\n",
      "D. Data analysis\n",
      "\n",
      "Enter your answer: d\n",
      "\n",
      "Q3. Which of the following is not a core data type in Python?\n",
      "A. Lists\n",
      "B. Strings\n",
      "C. Tuples\n",
      "D. Classes\n",
      "\n",
      "Enter your answer: d\n",
      "\n",
      "Q4. What is the correct syntax to print the word 'Hello' in Python?\n",
      "A. println(Hello)\n",
      "B. print('Hello')\n",
      "C. printf(Hello)\n",
      "D. log('Hello')\n",
      "\n",
      "Enter your answer: b\n"
     ]
    }
   ],
   "source": [
    "student_answers = take(create_student_view(response[\"choices\"][0][\"text\"], 4))"
   ]
  },
  {
   "cell_type": "markdown",
   "id": "6f4221dd",
   "metadata": {},
   "source": [
    "### Automatic Grading"
   ]
  },
  {
   "cell_type": "code",
   "execution_count": 22,
   "id": "c68028b7",
   "metadata": {},
   "outputs": [],
   "source": [
    "def grade(correct_answer_dict, answers):\n",
    "    correct_answers = 0\n",
    "    for question, answer in answers.items():\n",
    "        if answer.upper() == correct_answer_dict[question].upper()[16]:\n",
    "            correct_answers+=1\n",
    "    grade = 100 * correct_answers / len(answers)\n",
    "\n",
    "    if grade < 60:\n",
    "        passed = \"Not passed!\"\n",
    "    else:\n",
    "        passed = \"Passed!\"\n",
    "    return f\"{correct_answers} out of {len(answers)} correct! You achieved: {grade} % : {passed}\""
   ]
  },
  {
   "cell_type": "code",
   "execution_count": 23,
   "id": "7f061db0",
   "metadata": {},
   "outputs": [
    {
     "data": {
      "text/plain": [
       "'3 out of 4 correct! You achieved: 75.0 % : Passed!'"
      ]
     },
     "execution_count": 23,
     "metadata": {},
     "output_type": "execute_result"
    }
   ],
   "source": [
    "grade(extract_answers(response[\"choices\"][0][\"text\"], 4), student_answers)"
   ]
  }
 ],
 "metadata": {
  "kernelspec": {
   "display_name": "Python 3 (ipykernel)",
   "language": "python",
   "name": "python3"
  },
  "language_info": {
   "codemirror_mode": {
    "name": "ipython",
    "version": 3
   },
   "file_extension": ".py",
   "mimetype": "text/x-python",
   "name": "python",
   "nbconvert_exporter": "python",
   "pygments_lexer": "ipython3",
   "version": "3.9.12"
  }
 },
 "nbformat": 4,
 "nbformat_minor": 5
}
